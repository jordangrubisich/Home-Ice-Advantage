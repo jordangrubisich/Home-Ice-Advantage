{
 "cells": [
  {
   "cell_type": "markdown",
   "id": "baf4d7a3",
   "metadata": {},
   "source": [
    "# Analyzing NHL Stats: Home Ice Advantage"
   ]
  },
  {
   "cell_type": "markdown",
   "id": "f1c27260",
   "metadata": {},
   "source": [
    "Based on the hypothesis testing conducted, we examined whether home ice advantage significantly impacts the outcome of NHL games. By calculating the proportion of home wins and performing a z-test against the null hypothesis (no advantage, p = 0.5), we found that the observed z-value indicates whether the home ice advantage is statistically significant. If the z-value exceeds the critical threshold, we reject the null hypothesis, suggesting that playing at home does provide a meaningful advantage. Otherwise, we fail to reject the null, indicating insufficient evidence to support the claim. This analysis helps quantify the effect of home ice on game outcomes and informs further investigation into contributing factors."
   ]
  },
  {
   "cell_type": "code",
   "execution_count": 2,
   "id": "60266192",
   "metadata": {},
   "outputs": [],
   "source": [
    "import numpy as np\n",
    "import pandas as pd\n",
    "import matplotlib as plt\n",
    "import seaborn as sns\n",
    "import sklearn as sk\n",
    "\n"
   ]
  },
  {
   "cell_type": "code",
   "execution_count": 4,
   "id": "a2571ca2",
   "metadata": {},
   "outputs": [
    {
     "name": "stdout",
     "output_type": "stream",
     "text": [
      "Reject Null, home ice advantage is significant\n"
     ]
    }
   ],
   "source": [
    "#Read information from csv datasets\n",
    "games = pd.read_csv('./Data/game.csv')\n",
    "teams = pd.read_csv('./Data/team_info.csv')\n",
    "\n",
    "#Merging games and team_info tables to provide easier ideitifiers for each team\n",
    "games = games.merge(teams[['team_id', 'shortName', 'teamName', 'abbreviation']], \n",
    "                    left_on='home_team_id', \n",
    "                    right_on='team_id', \n",
    "                    suffixes=('', '_home'))\n",
    "games = games.drop(columns=['team_id'])\n",
    "games = games.rename(columns={'shortName': 'home_city', 'teamName':'home_team', 'abbreviation':'home_abbr'})\n",
    "\n",
    "games = games.merge(teams[['team_id', 'shortName', 'teamName', 'abbreviation']], \n",
    "                    left_on='away_team_id', \n",
    "                    right_on='team_id', \n",
    "                    suffixes=('', '_away'))\n",
    "games = games.drop(columns=['team_id'])\n",
    "games = games.rename(columns={'shortName': 'away_city', 'teamName':'away_team', 'abbreviation':'away_abbr'})\n",
    "\n",
    "#removing unused columns\n",
    "games = games.drop(columns=['venue_link', 'venue_time_zone_id', 'venue_time_zone_offset', 'venue_time_zone_tz', 'game_id'])\n",
    "\n",
    "#removing columns that do not have a definitive win / loss (likely shootout)\n",
    "games = games[~games['outcome'].str.contains('tbc', na=False)]\n",
    "\n",
    "#Hypothesis testing\n",
    "total_games = len(games)\n",
    "\n",
    "total_home_wins = len(games[games['outcome'].str.contains('home win', na=False)])\n",
    "\n",
    "p_hat = total_home_wins / total_games\n",
    "\n",
    "p_not = 0.5\n",
    "\n",
    "n = len(games)\n",
    "\n",
    "# Calculate the z-value\n",
    "z_value = (p_hat - p_not) / np.sqrt((p_not * (1 - p_not)) / n)\n",
    "\n",
    "if(z_value > 1.645):\n",
    "    print('Reject Null, home ice advantage is significant')\n",
    "else:\n",
    "    print('Fail to Reject null, not enough evidence to support alternate hypothesis')"
   ]
  }
 ],
 "metadata": {
  "kernelspec": {
   "display_name": "ML",
   "language": "python",
   "name": "python3"
  },
  "language_info": {
   "codemirror_mode": {
    "name": "ipython",
    "version": 3
   },
   "file_extension": ".py",
   "mimetype": "text/x-python",
   "name": "python",
   "nbconvert_exporter": "python",
   "pygments_lexer": "ipython3",
   "version": "3.12.8"
  }
 },
 "nbformat": 4,
 "nbformat_minor": 5
}
